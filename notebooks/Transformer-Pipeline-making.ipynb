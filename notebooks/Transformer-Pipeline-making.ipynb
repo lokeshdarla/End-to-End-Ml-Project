{
 "cells": [
  {
   "cell_type": "markdown",
   "id": "91fcc76a",
   "metadata": {},
   "source": [
    "# Getting Started"
   ]
  },
  {
   "cell_type": "code",
   "execution_count": 1,
   "id": "7262b931",
   "metadata": {},
   "outputs": [],
   "source": [
    "import pandas as pd\n",
    "import numpy as np"
   ]
  },
  {
   "cell_type": "code",
   "execution_count": 2,
   "id": "ca4c1ded",
   "metadata": {},
   "outputs": [],
   "source": [
    "filepath=\"../data/preprocessed_data/train.csv\""
   ]
  },
  {
   "cell_type": "code",
   "execution_count": 3,
   "id": "42c3d6d5",
   "metadata": {},
   "outputs": [],
   "source": [
    "housing=pd.read_csv(filepath)"
   ]
  },
  {
   "cell_type": "markdown",
   "id": "86445d71",
   "metadata": {},
   "source": [
    "# Custom Transformer\n",
    "- Let's start with building our custom transformer"
   ]
  },
  {
   "cell_type": "code",
   "execution_count": 4,
   "id": "17dbbed2",
   "metadata": {},
   "outputs": [],
   "source": [
    "from sklearn.base import BaseEstimator, TransformerMixin\n",
    "rooms_ix, bedrooms_ix, population_ix, households_ix = 4, 5, 6, 7"
   ]
  },
  {
   "cell_type": "code",
   "execution_count": 5,
   "id": "6f4e44b3",
   "metadata": {},
   "outputs": [],
   "source": [
    "class CombinedAttributesAdder(BaseEstimator, TransformerMixin):\n",
    "    def __init__(self, add_bedrooms_per_room = True):\n",
    "        self.add_bedrooms_per_room = add_bedrooms_per_room\n",
    "    def fit(self, X, y=None):\n",
    "        return self # nothing else to do\n",
    "    def transform(self, X, y=None):\n",
    "        rooms_per_household = X[:, rooms_ix] / X[:, households_ix]\n",
    "        population_per_household = X[:, population_ix] / X[:, households_ix]\n",
    "        if self.add_bedrooms_per_room:\n",
    "            bedrooms_per_room = X[:, bedrooms_ix] / X[:, rooms_ix]\n",
    "            return np.c_[X, rooms_per_household, population_per_household,\n",
    "             bedrooms_per_room]\n",
    "        else:\n",
    "            return np.c_[X, rooms_per_household, population_per_household]"
   ]
  },
  {
   "cell_type": "code",
   "execution_count": 6,
   "id": "7c2a9cbc",
   "metadata": {},
   "outputs": [],
   "source": [
    "attr_adder = CombinedAttributesAdder(add_bedrooms_per_room=False)\n",
    "housing_extra_attribs = attr_adder.transform(housing.values)"
   ]
  },
  {
   "cell_type": "markdown",
   "id": "277b1a35",
   "metadata": {},
   "source": [
    "# Feature Scaling \n",
    "- This is another important task in transformation we need to scale the values\n",
    "- There are two common ways to get all attributes to have the same scale: **min-max scaling and standardization**"
   ]
  },
  {
   "cell_type": "code",
   "execution_count": 7,
   "id": "35216f23",
   "metadata": {},
   "outputs": [],
   "source": [
    "from sklearn.preprocessing import StandardScaler\n",
    "from sklearn.impute import SimpleImputer\n",
    "from sklearn.preprocessing import OneHotEncoder"
   ]
  },
  {
   "cell_type": "markdown",
   "id": "357dc272",
   "metadata": {},
   "source": [
    "# Transformation Piplelines"
   ]
  },
  {
   "cell_type": "markdown",
   "id": "2330554f",
   "metadata": {},
   "source": [
    "## Numerical Column Pipeline"
   ]
  },
  {
   "cell_type": "code",
   "execution_count": 8,
   "id": "15ddd3ae",
   "metadata": {},
   "outputs": [],
   "source": [
    "housing_num =housing.drop('ocean_proximity',axis=1)"
   ]
  },
  {
   "cell_type": "code",
   "execution_count": 9,
   "id": "8910c94a",
   "metadata": {},
   "outputs": [],
   "source": [
    "from sklearn.pipeline import Pipeline"
   ]
  },
  {
   "cell_type": "code",
   "execution_count": 10,
   "id": "24a4842a",
   "metadata": {},
   "outputs": [],
   "source": [
    "num_pipeline=Pipeline([\n",
    "    ('imputer',SimpleImputer(strategy='median')),\n",
    "    ('attrib_adder',CombinedAttributesAdder()),\n",
    "    ('scaler',StandardScaler())\n",
    "    \n",
    "])"
   ]
  },
  {
   "cell_type": "code",
   "execution_count": 11,
   "id": "e100588c",
   "metadata": {},
   "outputs": [],
   "source": [
    "housing_num_tr=num_pipeline.fit(housing_num)"
   ]
  },
  {
   "cell_type": "markdown",
   "id": "d21ca8a6",
   "metadata": {},
   "source": [
    "## Column Transformer"
   ]
  },
  {
   "cell_type": "code",
   "execution_count": 12,
   "id": "bf5475d8",
   "metadata": {},
   "outputs": [],
   "source": [
    "from sklearn.compose import ColumnTransformer\n",
    "num_attribs = list(housing_num)\n",
    "cat_attribs = [\"ocean_proximity\"]"
   ]
  },
  {
   "cell_type": "code",
   "execution_count": 13,
   "id": "1c7a4d64",
   "metadata": {},
   "outputs": [],
   "source": [
    "full_pipeline=ColumnTransformer([\n",
    "    (\"num\",num_pipeline,num_attribs),\n",
    "    (\"cat\",OneHotEncoder(),cat_attribs)\n",
    "])"
   ]
  },
  {
   "cell_type": "code",
   "execution_count": 14,
   "id": "aaadc152",
   "metadata": {},
   "outputs": [],
   "source": [
    "housing_prepared=full_pipeline.fit_transform(housing)"
   ]
  },
  {
   "cell_type": "code",
   "execution_count": 16,
   "id": "81172524",
   "metadata": {},
   "outputs": [
    {
     "data": {
      "text/plain": [
       "['../models/preprocessing_pipeline.pkl']"
      ]
     },
     "execution_count": 16,
     "metadata": {},
     "output_type": "execute_result"
    }
   ],
   "source": [
    "import joblib\n",
    "joblib.dump(full_pipeline, '../models/preprocessing_pipeline.pkl')"
   ]
  }
 ],
 "metadata": {
  "kernelspec": {
   "display_name": "Python 3 (ipykernel)",
   "language": "python",
   "name": "python3"
  },
  "language_info": {
   "codemirror_mode": {
    "name": "ipython",
    "version": 3
   },
   "file_extension": ".py",
   "mimetype": "text/x-python",
   "name": "python",
   "nbconvert_exporter": "python",
   "pygments_lexer": "ipython3",
   "version": "3.11.2"
  }
 },
 "nbformat": 4,
 "nbformat_minor": 5
}
